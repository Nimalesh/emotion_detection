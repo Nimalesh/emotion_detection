{
  "nbformat": 4,
  "nbformat_minor": 5,
  "metadata": {
    "kernelspec": {
      "display_name": "Python 3",
      "language": "python",
      "name": "python3"
    },
    "language_info": {
      "codemirror_mode": {
        "name": "ipython",
        "version": 3
      },
      "file_extension": ".py",
      "mimetype": "text/x-python",
      "name": "python",
      "nbconvert_exporter": "python",
      "pygments_lexer": "ipython3",
      "version": "3.9.1+"
    },
    "colab": {
      "provenance": []
    },
    "accelerator": "GPU",
    "gpuClass": "standard"
  },
  "cells": [
    {
      "cell_type": "markdown",
      "metadata": {
        "id": "36f38e2a-9998-4c73-bfc3-21b74d64a5ee"
      },
      "source": [
        "### End 2 End NLP Project\n",
        "+ Emotion Detection In Text \n",
        "+ Text Classifier"
      ],
      "id": "36f38e2a-9998-4c73-bfc3-21b74d64a5ee"
    },
    {
      "cell_type": "code",
      "source": [
        "from google.colab import drive\n",
        "drive.mount('/content/drive')"
      ],
      "metadata": {
        "colab": {
          "base_uri": "https://localhost:8080/"
        },
        "id": "5DtNgV97Avlz",
        "outputId": "0eaffbc7-27b2-4f55-c20e-ff8cc0b63565"
      },
      "id": "5DtNgV97Avlz",
      "execution_count": 65,
      "outputs": [
        {
          "output_type": "stream",
          "name": "stdout",
          "text": [
            "Drive already mounted at /content/drive; to attempt to forcibly remount, call drive.mount(\"/content/drive\", force_remount=True).\n"
          ]
        }
      ]
    },
    {
      "cell_type": "markdown",
      "source": [
        "**Import Library**"
      ],
      "metadata": {
        "id": "LdZqAYb5SwPS"
      },
      "id": "LdZqAYb5SwPS"
    },
    {
      "cell_type": "code",
      "metadata": {
        "id": "f0814628-3d83-4fd6-a511-2eccf79f9f1e"
      },
      "source": [
        "# Load EDA Pkgs\n",
        "import pandas as pd\n",
        "import numpy as np\n",
        "import pandas as pd\n",
        "import matplotlib.pyplot as plt\n",
        "import seaborn as sns\n",
        "\n",
        "# import and download library for text processing\n",
        "import re\n",
        "import nltk\n",
        "from nltk.corpus import stopwords\n",
        "from nltk.tokenize import word_tokenize\n",
        "from nltk.stem import WordNetLemmatizer\n",
        "\n",
        "import tensorflow as tf\n",
        "import random"
      ],
      "id": "f0814628-3d83-4fd6-a511-2eccf79f9f1e",
      "execution_count": 123,
      "outputs": []
    },
    {
      "cell_type": "code",
      "metadata": {
        "id": "b209e004-ab77-4407-8689-b4318944d47f"
      },
      "source": [
        "# Load Dataset\n",
        "# df = pd.read_csv(\"/content/drive/MyDrive/nlp/dataset/emotion-dataset.csv\")\n",
        "path = '/content/drive/MyDrive/nlp/dataset2/'\n",
        "train_path = path+'Emotions dataset for NLP/train.txt'\n",
        "test_path = path+'Emotions dataset for NLP/test.txt'\n",
        "val_path = path+'Emotions dataset for NLP/val.txt'"
      ],
      "id": "b209e004-ab77-4407-8689-b4318944d47f",
      "execution_count": 124,
      "outputs": []
    },
    {
      "cell_type": "code",
      "source": [
        "train_df = pd.read_csv(train_path, sep=';', names=['text', 'labels'])\n",
        "test_df = pd.read_csv(test_path, sep=';', names=['text', 'labels'])\n",
        "val_df = pd.read_csv(val_path, sep=';', names=['text', 'labels'])\n",
        "full_df = pd.concat([train_df, val_df], axis=0)"
      ],
      "metadata": {
        "id": "u1E2irKlCPoz"
      },
      "id": "u1E2irKlCPoz",
      "execution_count": 125,
      "outputs": []
    },
    {
      "cell_type": "code",
      "source": [
        "print(\"Train text size\", train_df.shape[0])\n",
        "print(\"Test text size\", test_df.shape[0])\n",
        "print(\"Val text size\", val_df.shape[0])\n",
        "print(\"\\nTotal samples\", (train_df.shape[0]+test_df.shape[0]+val_df.shape[0]))"
      ],
      "metadata": {
        "colab": {
          "base_uri": "https://localhost:8080/"
        },
        "id": "kvmvO93uFTap",
        "outputId": "7d90e21e-129c-4878-af31-41c680f810e4"
      },
      "id": "kvmvO93uFTap",
      "execution_count": 126,
      "outputs": [
        {
          "output_type": "stream",
          "name": "stdout",
          "text": [
            "Train text size 16000\n",
            "Test text size 2000\n",
            "Val text size 2000\n",
            "\n",
            "Total samples 20000\n"
          ]
        }
      ]
    },
    {
      "cell_type": "markdown",
      "source": [
        "Describe Dataa"
      ],
      "metadata": {
        "id": "xXgVvYyqTdwO"
      },
      "id": "xXgVvYyqTdwO"
    },
    {
      "cell_type": "code",
      "source": [
        "train_df['Length'] = train_df.text.apply(lambda x:len(x))"
      ],
      "metadata": {
        "id": "UT5IcWbsTb-J"
      },
      "id": "UT5IcWbsTb-J",
      "execution_count": 131,
      "outputs": []
    },
    {
      "cell_type": "code",
      "source": [
        "print(train_df.Length.max())\n",
        "print(train_df.Length.min())"
      ],
      "metadata": {
        "colab": {
          "base_uri": "https://localhost:8080/"
        },
        "id": "OY3A3bJ2F5Cw",
        "outputId": "5d4f0cd1-f459-48a0-bea6-ba502852a069"
      },
      "id": "OY3A3bJ2F5Cw",
      "execution_count": 132,
      "outputs": [
        {
          "output_type": "stream",
          "name": "stdout",
          "text": [
            "300\n",
            "7\n"
          ]
        }
      ]
    },
    {
      "cell_type": "code",
      "source": [
        "train_df[['Length']].describe()"
      ],
      "metadata": {
        "colab": {
          "base_uri": "https://localhost:8080/",
          "height": 300
        },
        "id": "xHNVMg7EF8qm",
        "outputId": "a7253839-3c11-4032-ae48-3f6d32cccf50"
      },
      "id": "xHNVMg7EF8qm",
      "execution_count": 133,
      "outputs": [
        {
          "output_type": "execute_result",
          "data": {
            "text/plain": [
              "             Length\n",
              "count  16000.000000\n",
              "mean      96.845812\n",
              "std       55.904953\n",
              "min        7.000000\n",
              "25%       53.000000\n",
              "50%       86.000000\n",
              "75%      129.000000\n",
              "max      300.000000"
            ],
            "text/html": [
              "\n",
              "  <div id=\"df-9c746307-fa48-4274-8c30-25a64d935d79\">\n",
              "    <div class=\"colab-df-container\">\n",
              "      <div>\n",
              "<style scoped>\n",
              "    .dataframe tbody tr th:only-of-type {\n",
              "        vertical-align: middle;\n",
              "    }\n",
              "\n",
              "    .dataframe tbody tr th {\n",
              "        vertical-align: top;\n",
              "    }\n",
              "\n",
              "    .dataframe thead th {\n",
              "        text-align: right;\n",
              "    }\n",
              "</style>\n",
              "<table border=\"1\" class=\"dataframe\">\n",
              "  <thead>\n",
              "    <tr style=\"text-align: right;\">\n",
              "      <th></th>\n",
              "      <th>Length</th>\n",
              "    </tr>\n",
              "  </thead>\n",
              "  <tbody>\n",
              "    <tr>\n",
              "      <th>count</th>\n",
              "      <td>16000.000000</td>\n",
              "    </tr>\n",
              "    <tr>\n",
              "      <th>mean</th>\n",
              "      <td>96.845812</td>\n",
              "    </tr>\n",
              "    <tr>\n",
              "      <th>std</th>\n",
              "      <td>55.904953</td>\n",
              "    </tr>\n",
              "    <tr>\n",
              "      <th>min</th>\n",
              "      <td>7.000000</td>\n",
              "    </tr>\n",
              "    <tr>\n",
              "      <th>25%</th>\n",
              "      <td>53.000000</td>\n",
              "    </tr>\n",
              "    <tr>\n",
              "      <th>50%</th>\n",
              "      <td>86.000000</td>\n",
              "    </tr>\n",
              "    <tr>\n",
              "      <th>75%</th>\n",
              "      <td>129.000000</td>\n",
              "    </tr>\n",
              "    <tr>\n",
              "      <th>max</th>\n",
              "      <td>300.000000</td>\n",
              "    </tr>\n",
              "  </tbody>\n",
              "</table>\n",
              "</div>\n",
              "      <button class=\"colab-df-convert\" onclick=\"convertToInteractive('df-9c746307-fa48-4274-8c30-25a64d935d79')\"\n",
              "              title=\"Convert this dataframe to an interactive table.\"\n",
              "              style=\"display:none;\">\n",
              "        \n",
              "  <svg xmlns=\"http://www.w3.org/2000/svg\" height=\"24px\"viewBox=\"0 0 24 24\"\n",
              "       width=\"24px\">\n",
              "    <path d=\"M0 0h24v24H0V0z\" fill=\"none\"/>\n",
              "    <path d=\"M18.56 5.44l.94 2.06.94-2.06 2.06-.94-2.06-.94-.94-2.06-.94 2.06-2.06.94zm-11 1L8.5 8.5l.94-2.06 2.06-.94-2.06-.94L8.5 2.5l-.94 2.06-2.06.94zm10 10l.94 2.06.94-2.06 2.06-.94-2.06-.94-.94-2.06-.94 2.06-2.06.94z\"/><path d=\"M17.41 7.96l-1.37-1.37c-.4-.4-.92-.59-1.43-.59-.52 0-1.04.2-1.43.59L10.3 9.45l-7.72 7.72c-.78.78-.78 2.05 0 2.83L4 21.41c.39.39.9.59 1.41.59.51 0 1.02-.2 1.41-.59l7.78-7.78 2.81-2.81c.8-.78.8-2.07 0-2.86zM5.41 20L4 18.59l7.72-7.72 1.47 1.35L5.41 20z\"/>\n",
              "  </svg>\n",
              "      </button>\n",
              "      \n",
              "  <style>\n",
              "    .colab-df-container {\n",
              "      display:flex;\n",
              "      flex-wrap:wrap;\n",
              "      gap: 12px;\n",
              "    }\n",
              "\n",
              "    .colab-df-convert {\n",
              "      background-color: #E8F0FE;\n",
              "      border: none;\n",
              "      border-radius: 50%;\n",
              "      cursor: pointer;\n",
              "      display: none;\n",
              "      fill: #1967D2;\n",
              "      height: 32px;\n",
              "      padding: 0 0 0 0;\n",
              "      width: 32px;\n",
              "    }\n",
              "\n",
              "    .colab-df-convert:hover {\n",
              "      background-color: #E2EBFA;\n",
              "      box-shadow: 0px 1px 2px rgba(60, 64, 67, 0.3), 0px 1px 3px 1px rgba(60, 64, 67, 0.15);\n",
              "      fill: #174EA6;\n",
              "    }\n",
              "\n",
              "    [theme=dark] .colab-df-convert {\n",
              "      background-color: #3B4455;\n",
              "      fill: #D2E3FC;\n",
              "    }\n",
              "\n",
              "    [theme=dark] .colab-df-convert:hover {\n",
              "      background-color: #434B5C;\n",
              "      box-shadow: 0px 1px 3px 1px rgba(0, 0, 0, 0.15);\n",
              "      filter: drop-shadow(0px 1px 2px rgba(0, 0, 0, 0.3));\n",
              "      fill: #FFFFFF;\n",
              "    }\n",
              "  </style>\n",
              "\n",
              "      <script>\n",
              "        const buttonEl =\n",
              "          document.querySelector('#df-9c746307-fa48-4274-8c30-25a64d935d79 button.colab-df-convert');\n",
              "        buttonEl.style.display =\n",
              "          google.colab.kernel.accessAllowed ? 'block' : 'none';\n",
              "\n",
              "        async function convertToInteractive(key) {\n",
              "          const element = document.querySelector('#df-9c746307-fa48-4274-8c30-25a64d935d79');\n",
              "          const dataTable =\n",
              "            await google.colab.kernel.invokeFunction('convertToInteractive',\n",
              "                                                     [key], {});\n",
              "          if (!dataTable) return;\n",
              "\n",
              "          const docLinkHtml = 'Like what you see? Visit the ' +\n",
              "            '<a target=\"_blank\" href=https://colab.research.google.com/notebooks/data_table.ipynb>data table notebook</a>'\n",
              "            + ' to learn more about interactive tables.';\n",
              "          element.innerHTML = '';\n",
              "          dataTable['output_type'] = 'display_data';\n",
              "          await google.colab.output.renderOutput(dataTable, element);\n",
              "          const docLink = document.createElement('div');\n",
              "          docLink.innerHTML = docLinkHtml;\n",
              "          element.appendChild(docLink);\n",
              "        }\n",
              "      </script>\n",
              "    </div>\n",
              "  </div>\n",
              "  "
            ]
          },
          "metadata": {},
          "execution_count": 133
        }
      ]
    },
    {
      "cell_type": "code",
      "source": [],
      "metadata": {
        "id": "wmX5XzAtTkzV"
      },
      "id": "wmX5XzAtTkzV",
      "execution_count": null,
      "outputs": []
    },
    {
      "cell_type": "markdown",
      "source": [
        "Encoding Data"
      ],
      "metadata": {
        "id": "xIEplxneTl8I"
      },
      "id": "xIEplxneTl8I"
    },
    {
      "cell_type": "code",
      "source": [
        "def label_encode(data,label):\n",
        "    labels=data[label].map(\n",
        "    {\n",
        "        \"joy\":0,\n",
        "        \"sadness\":1,\n",
        "        \"anger\":2,\n",
        "        \"fear\":3,\n",
        "        \"love\":4,\n",
        "        \"surprise\":5\n",
        "    }\n",
        "    )\n",
        "    return labels\n",
        "\n",
        "labels = ['joy', 'sadness', 'anger', 'fear', 'love', 'surprise']"
      ],
      "metadata": {
        "id": "6dayzQAWGBFr"
      },
      "id": "6dayzQAWGBFr",
      "execution_count": 134,
      "outputs": []
    },
    {
      "cell_type": "code",
      "source": [
        "train_df['enc_labels'] = label_encode(train_df, 'labels')\n",
        "test_df['enc_labels'] = label_encode(test_df, 'labels')\n",
        "val_df['enc_labels'] = label_encode(val_df, 'labels')"
      ],
      "metadata": {
        "id": "6eKXxVRnGGmZ"
      },
      "id": "6eKXxVRnGGmZ",
      "execution_count": 135,
      "outputs": []
    },
    {
      "cell_type": "code",
      "source": [
        "train_df.head()"
      ],
      "metadata": {
        "colab": {
          "base_uri": "https://localhost:8080/",
          "height": 206
        },
        "id": "cqkrIfaeGKlw",
        "outputId": "2ef32421-c848-410b-9c73-278e2efaec51"
      },
      "id": "cqkrIfaeGKlw",
      "execution_count": 136,
      "outputs": [
        {
          "output_type": "execute_result",
          "data": {
            "text/plain": [
              "                                                                                                           text  \\\n",
              "0                                                                                       i didnt feel humiliated   \n",
              "1  i can go from feeling so hopeless to so damned hopeful just from being around someone who cares and is awake   \n",
              "2                                                              im grabbing a minute to post i feel greedy wrong   \n",
              "3                  i am ever feeling nostalgic about the fireplace i will know that it is still on the property   \n",
              "4                                                                                          i am feeling grouchy   \n",
              "\n",
              "    labels  Length  enc_labels  \n",
              "0  sadness      23           1  \n",
              "1  sadness     108           1  \n",
              "2    anger      48           2  \n",
              "3     love      92           4  \n",
              "4    anger      20           2  "
            ],
            "text/html": [
              "\n",
              "  <div id=\"df-e9f3748b-a5bf-4e7f-87bb-aba612c285b6\">\n",
              "    <div class=\"colab-df-container\">\n",
              "      <div>\n",
              "<style scoped>\n",
              "    .dataframe tbody tr th:only-of-type {\n",
              "        vertical-align: middle;\n",
              "    }\n",
              "\n",
              "    .dataframe tbody tr th {\n",
              "        vertical-align: top;\n",
              "    }\n",
              "\n",
              "    .dataframe thead th {\n",
              "        text-align: right;\n",
              "    }\n",
              "</style>\n",
              "<table border=\"1\" class=\"dataframe\">\n",
              "  <thead>\n",
              "    <tr style=\"text-align: right;\">\n",
              "      <th></th>\n",
              "      <th>text</th>\n",
              "      <th>labels</th>\n",
              "      <th>Length</th>\n",
              "      <th>enc_labels</th>\n",
              "    </tr>\n",
              "  </thead>\n",
              "  <tbody>\n",
              "    <tr>\n",
              "      <th>0</th>\n",
              "      <td>i didnt feel humiliated</td>\n",
              "      <td>sadness</td>\n",
              "      <td>23</td>\n",
              "      <td>1</td>\n",
              "    </tr>\n",
              "    <tr>\n",
              "      <th>1</th>\n",
              "      <td>i can go from feeling so hopeless to so damned hopeful just from being around someone who cares and is awake</td>\n",
              "      <td>sadness</td>\n",
              "      <td>108</td>\n",
              "      <td>1</td>\n",
              "    </tr>\n",
              "    <tr>\n",
              "      <th>2</th>\n",
              "      <td>im grabbing a minute to post i feel greedy wrong</td>\n",
              "      <td>anger</td>\n",
              "      <td>48</td>\n",
              "      <td>2</td>\n",
              "    </tr>\n",
              "    <tr>\n",
              "      <th>3</th>\n",
              "      <td>i am ever feeling nostalgic about the fireplace i will know that it is still on the property</td>\n",
              "      <td>love</td>\n",
              "      <td>92</td>\n",
              "      <td>4</td>\n",
              "    </tr>\n",
              "    <tr>\n",
              "      <th>4</th>\n",
              "      <td>i am feeling grouchy</td>\n",
              "      <td>anger</td>\n",
              "      <td>20</td>\n",
              "      <td>2</td>\n",
              "    </tr>\n",
              "  </tbody>\n",
              "</table>\n",
              "</div>\n",
              "      <button class=\"colab-df-convert\" onclick=\"convertToInteractive('df-e9f3748b-a5bf-4e7f-87bb-aba612c285b6')\"\n",
              "              title=\"Convert this dataframe to an interactive table.\"\n",
              "              style=\"display:none;\">\n",
              "        \n",
              "  <svg xmlns=\"http://www.w3.org/2000/svg\" height=\"24px\"viewBox=\"0 0 24 24\"\n",
              "       width=\"24px\">\n",
              "    <path d=\"M0 0h24v24H0V0z\" fill=\"none\"/>\n",
              "    <path d=\"M18.56 5.44l.94 2.06.94-2.06 2.06-.94-2.06-.94-.94-2.06-.94 2.06-2.06.94zm-11 1L8.5 8.5l.94-2.06 2.06-.94-2.06-.94L8.5 2.5l-.94 2.06-2.06.94zm10 10l.94 2.06.94-2.06 2.06-.94-2.06-.94-.94-2.06-.94 2.06-2.06.94z\"/><path d=\"M17.41 7.96l-1.37-1.37c-.4-.4-.92-.59-1.43-.59-.52 0-1.04.2-1.43.59L10.3 9.45l-7.72 7.72c-.78.78-.78 2.05 0 2.83L4 21.41c.39.39.9.59 1.41.59.51 0 1.02-.2 1.41-.59l7.78-7.78 2.81-2.81c.8-.78.8-2.07 0-2.86zM5.41 20L4 18.59l7.72-7.72 1.47 1.35L5.41 20z\"/>\n",
              "  </svg>\n",
              "      </button>\n",
              "      \n",
              "  <style>\n",
              "    .colab-df-container {\n",
              "      display:flex;\n",
              "      flex-wrap:wrap;\n",
              "      gap: 12px;\n",
              "    }\n",
              "\n",
              "    .colab-df-convert {\n",
              "      background-color: #E8F0FE;\n",
              "      border: none;\n",
              "      border-radius: 50%;\n",
              "      cursor: pointer;\n",
              "      display: none;\n",
              "      fill: #1967D2;\n",
              "      height: 32px;\n",
              "      padding: 0 0 0 0;\n",
              "      width: 32px;\n",
              "    }\n",
              "\n",
              "    .colab-df-convert:hover {\n",
              "      background-color: #E2EBFA;\n",
              "      box-shadow: 0px 1px 2px rgba(60, 64, 67, 0.3), 0px 1px 3px 1px rgba(60, 64, 67, 0.15);\n",
              "      fill: #174EA6;\n",
              "    }\n",
              "\n",
              "    [theme=dark] .colab-df-convert {\n",
              "      background-color: #3B4455;\n",
              "      fill: #D2E3FC;\n",
              "    }\n",
              "\n",
              "    [theme=dark] .colab-df-convert:hover {\n",
              "      background-color: #434B5C;\n",
              "      box-shadow: 0px 1px 3px 1px rgba(0, 0, 0, 0.15);\n",
              "      filter: drop-shadow(0px 1px 2px rgba(0, 0, 0, 0.3));\n",
              "      fill: #FFFFFF;\n",
              "    }\n",
              "  </style>\n",
              "\n",
              "      <script>\n",
              "        const buttonEl =\n",
              "          document.querySelector('#df-e9f3748b-a5bf-4e7f-87bb-aba612c285b6 button.colab-df-convert');\n",
              "        buttonEl.style.display =\n",
              "          google.colab.kernel.accessAllowed ? 'block' : 'none';\n",
              "\n",
              "        async function convertToInteractive(key) {\n",
              "          const element = document.querySelector('#df-e9f3748b-a5bf-4e7f-87bb-aba612c285b6');\n",
              "          const dataTable =\n",
              "            await google.colab.kernel.invokeFunction('convertToInteractive',\n",
              "                                                     [key], {});\n",
              "          if (!dataTable) return;\n",
              "\n",
              "          const docLinkHtml = 'Like what you see? Visit the ' +\n",
              "            '<a target=\"_blank\" href=https://colab.research.google.com/notebooks/data_table.ipynb>data table notebook</a>'\n",
              "            + ' to learn more about interactive tables.';\n",
              "          element.innerHTML = '';\n",
              "          dataTable['output_type'] = 'display_data';\n",
              "          await google.colab.output.renderOutput(dataTable, element);\n",
              "          const docLink = document.createElement('div');\n",
              "          docLink.innerHTML = docLinkHtml;\n",
              "          element.appendChild(docLink);\n",
              "        }\n",
              "      </script>\n",
              "    </div>\n",
              "  </div>\n",
              "  "
            ]
          },
          "metadata": {},
          "execution_count": 136
        }
      ]
    },
    {
      "cell_type": "markdown",
      "source": [
        "Text Processing\n"
      ],
      "metadata": {
        "id": "szM4ZPqyTsF-"
      },
      "id": "szM4ZPqyTsF-"
    },
    {
      "cell_type": "code",
      "source": [
        "def lower_text(text):\n",
        "    # lowercase the text \n",
        "    return text.lower()\n",
        "\n",
        "def remove_number(text):\n",
        "    # remove number with regex\n",
        "    num = re.compile(r'[-+]?[.\\d]*[\\d]+[:,.\\d]*')\n",
        "    return num.sub(r'', text)\n",
        "\n",
        "def remove_punct(text):\n",
        "    # remove punctuations\n",
        "    punctuations = '@#!?+&*[]-%.:/();$=><|{}^' + \"'`\" \n",
        "    for p in punctuations:\n",
        "        text = text.replace(p, f' {p} ')\n",
        "    return text\n",
        "\n",
        "def nltk_process(text):\n",
        "    list1 = word_tokenize(text)\n",
        "    text = ' '.join([lemmatizer.lemmatize(words) for words in list1])\n",
        "    list1 = word_tokenize(text)\n",
        "    text = \" \".join([word for word in list1 if word not in (stopwords)])\n",
        "    return text\n",
        "\n",
        "def data_preparation(text):\n",
        "    text = lower_text(text)\n",
        "    text = remove_number(text)\n",
        "    text = nltk_process(text)\n",
        "    text = remove_punct(text)\n",
        "  \n",
        "    return text"
      ],
      "metadata": {
        "id": "lGuIFjCIGS6m"
      },
      "id": "lGuIFjCIGS6m",
      "execution_count": 137,
      "outputs": []
    },
    {
      "cell_type": "code",
      "source": [
        "nltk.download('wordnet')\n",
        "nltk.download('punkt')\n",
        "nltk.download('stopwords')\n",
        "nltk.download('omw-1.4')\n",
        "\n",
        "lemmatizer = WordNetLemmatizer()\n",
        "stopwords = stopwords.words('english')\n",
        "\n",
        "\n",
        "seed = 101\n",
        "random.seed(seed)\n",
        "np.random.seed(seed)\n",
        "tf.random.set_seed(seed)"
      ],
      "metadata": {
        "colab": {
          "base_uri": "https://localhost:8080/"
        },
        "id": "tTCfh6SrGdad",
        "outputId": "b724e609-8a66-4ddf-fefd-b2ba01d846c1"
      },
      "id": "tTCfh6SrGdad",
      "execution_count": 138,
      "outputs": [
        {
          "output_type": "stream",
          "name": "stderr",
          "text": [
            "[nltk_data] Downloading package wordnet to /root/nltk_data...\n",
            "[nltk_data]   Package wordnet is already up-to-date!\n",
            "[nltk_data] Downloading package punkt to /root/nltk_data...\n",
            "[nltk_data]   Package punkt is already up-to-date!\n",
            "[nltk_data] Downloading package stopwords to /root/nltk_data...\n",
            "[nltk_data]   Package stopwords is already up-to-date!\n",
            "[nltk_data] Downloading package omw-1.4 to /root/nltk_data...\n",
            "[nltk_data]   Package omw-1.4 is already up-to-date!\n"
          ]
        }
      ]
    },
    {
      "cell_type": "code",
      "source": [],
      "metadata": {
        "id": "pU94HzsnT5qx"
      },
      "id": "pU94HzsnT5qx",
      "execution_count": null,
      "outputs": []
    },
    {
      "cell_type": "code",
      "source": [
        "train_df[\"clean_text\"] = train_df[\"text\"].apply(data_preparation)\n",
        "test_df[\"clean_text\"] = test_df[\"text\"].apply(data_preparation)\n",
        "val_df[\"clean_text\"] = val_df[\"text\"].apply(data_preparation)"
      ],
      "metadata": {
        "id": "MrjnyrsuGXgR"
      },
      "id": "MrjnyrsuGXgR",
      "execution_count": 139,
      "outputs": []
    },
    {
      "cell_type": "code",
      "source": [
        "train_df['Clean_Length'] = train_df['clean_text'].apply(lambda x:len(x))"
      ],
      "metadata": {
        "id": "KxIhJjA9GY1x"
      },
      "id": "KxIhJjA9GY1x",
      "execution_count": 140,
      "outputs": []
    },
    {
      "cell_type": "code",
      "source": [
        "train_df.head(10)"
      ],
      "metadata": {
        "colab": {
          "base_uri": "https://localhost:8080/",
          "height": 494
        },
        "id": "sIvR1oFtG-7_",
        "outputId": "e3bd7274-eea2-468a-f143-5deac756adfd"
      },
      "id": "sIvR1oFtG-7_",
      "execution_count": 141,
      "outputs": [
        {
          "output_type": "execute_result",
          "data": {
            "text/plain": [
              "                                                                                                                         text  \\\n",
              "0                                                                                                     i didnt feel humiliated   \n",
              "1                i can go from feeling so hopeless to so damned hopeful just from being around someone who cares and is awake   \n",
              "2                                                                            im grabbing a minute to post i feel greedy wrong   \n",
              "3                                i am ever feeling nostalgic about the fireplace i will know that it is still on the property   \n",
              "4                                                                                                        i am feeling grouchy   \n",
              "5                                                           ive been feeling a little burdened lately wasnt sure why that was   \n",
              "6  ive been taking or milligrams or times recommended amount and ive fallen asleep a lot faster but i also feel like so funny   \n",
              "7                                                   i feel as confused about life as a teenager or as jaded as a year old man   \n",
              "8                          i have been with petronas for years i feel that petronas has performed well and made a huge profit   \n",
              "9                                                                                                         i feel romantic too   \n",
              "\n",
              "     labels  Length  enc_labels  \\\n",
              "0   sadness      23           1   \n",
              "1   sadness     108           1   \n",
              "2     anger      48           2   \n",
              "3      love      92           4   \n",
              "4     anger      20           2   \n",
              "5   sadness      65           1   \n",
              "6  surprise     122           5   \n",
              "7      fear      73           3   \n",
              "8       joy      98           0   \n",
              "9      love      19           4   \n",
              "\n",
              "                                                                                       clean_text  \\\n",
              "0                                                                           didnt feel humiliated   \n",
              "1                                    go feeling hopeless damned hopeful around someone care awake   \n",
              "2                                                       im grabbing minute post feel greedy wrong   \n",
              "3                                            ever feeling nostalgic fireplace know still property   \n",
              "4                                                                                 feeling grouchy   \n",
              "5                                                ive feeling little burdened lately wasnt sure wa   \n",
              "6  ive taking milligram time recommended amount ive fallen asleep lot faster also feel like funny   \n",
              "7                                                  feel confused life teenager jaded year old man   \n",
              "8                                  petronas year feel petronas ha performed well made huge profit   \n",
              "9                                                                                   feel romantic   \n",
              "\n",
              "   Clean_Length  \n",
              "0            21  \n",
              "1            60  \n",
              "2            41  \n",
              "3            52  \n",
              "4            15  \n",
              "5            48  \n",
              "6            94  \n",
              "7            46  \n",
              "8            62  \n",
              "9            13  "
            ],
            "text/html": [
              "\n",
              "  <div id=\"df-f2090af8-887a-4d41-9b35-05bafc24d211\">\n",
              "    <div class=\"colab-df-container\">\n",
              "      <div>\n",
              "<style scoped>\n",
              "    .dataframe tbody tr th:only-of-type {\n",
              "        vertical-align: middle;\n",
              "    }\n",
              "\n",
              "    .dataframe tbody tr th {\n",
              "        vertical-align: top;\n",
              "    }\n",
              "\n",
              "    .dataframe thead th {\n",
              "        text-align: right;\n",
              "    }\n",
              "</style>\n",
              "<table border=\"1\" class=\"dataframe\">\n",
              "  <thead>\n",
              "    <tr style=\"text-align: right;\">\n",
              "      <th></th>\n",
              "      <th>text</th>\n",
              "      <th>labels</th>\n",
              "      <th>Length</th>\n",
              "      <th>enc_labels</th>\n",
              "      <th>clean_text</th>\n",
              "      <th>Clean_Length</th>\n",
              "    </tr>\n",
              "  </thead>\n",
              "  <tbody>\n",
              "    <tr>\n",
              "      <th>0</th>\n",
              "      <td>i didnt feel humiliated</td>\n",
              "      <td>sadness</td>\n",
              "      <td>23</td>\n",
              "      <td>1</td>\n",
              "      <td>didnt feel humiliated</td>\n",
              "      <td>21</td>\n",
              "    </tr>\n",
              "    <tr>\n",
              "      <th>1</th>\n",
              "      <td>i can go from feeling so hopeless to so damned hopeful just from being around someone who cares and is awake</td>\n",
              "      <td>sadness</td>\n",
              "      <td>108</td>\n",
              "      <td>1</td>\n",
              "      <td>go feeling hopeless damned hopeful around someone care awake</td>\n",
              "      <td>60</td>\n",
              "    </tr>\n",
              "    <tr>\n",
              "      <th>2</th>\n",
              "      <td>im grabbing a minute to post i feel greedy wrong</td>\n",
              "      <td>anger</td>\n",
              "      <td>48</td>\n",
              "      <td>2</td>\n",
              "      <td>im grabbing minute post feel greedy wrong</td>\n",
              "      <td>41</td>\n",
              "    </tr>\n",
              "    <tr>\n",
              "      <th>3</th>\n",
              "      <td>i am ever feeling nostalgic about the fireplace i will know that it is still on the property</td>\n",
              "      <td>love</td>\n",
              "      <td>92</td>\n",
              "      <td>4</td>\n",
              "      <td>ever feeling nostalgic fireplace know still property</td>\n",
              "      <td>52</td>\n",
              "    </tr>\n",
              "    <tr>\n",
              "      <th>4</th>\n",
              "      <td>i am feeling grouchy</td>\n",
              "      <td>anger</td>\n",
              "      <td>20</td>\n",
              "      <td>2</td>\n",
              "      <td>feeling grouchy</td>\n",
              "      <td>15</td>\n",
              "    </tr>\n",
              "    <tr>\n",
              "      <th>5</th>\n",
              "      <td>ive been feeling a little burdened lately wasnt sure why that was</td>\n",
              "      <td>sadness</td>\n",
              "      <td>65</td>\n",
              "      <td>1</td>\n",
              "      <td>ive feeling little burdened lately wasnt sure wa</td>\n",
              "      <td>48</td>\n",
              "    </tr>\n",
              "    <tr>\n",
              "      <th>6</th>\n",
              "      <td>ive been taking or milligrams or times recommended amount and ive fallen asleep a lot faster but i also feel like so funny</td>\n",
              "      <td>surprise</td>\n",
              "      <td>122</td>\n",
              "      <td>5</td>\n",
              "      <td>ive taking milligram time recommended amount ive fallen asleep lot faster also feel like funny</td>\n",
              "      <td>94</td>\n",
              "    </tr>\n",
              "    <tr>\n",
              "      <th>7</th>\n",
              "      <td>i feel as confused about life as a teenager or as jaded as a year old man</td>\n",
              "      <td>fear</td>\n",
              "      <td>73</td>\n",
              "      <td>3</td>\n",
              "      <td>feel confused life teenager jaded year old man</td>\n",
              "      <td>46</td>\n",
              "    </tr>\n",
              "    <tr>\n",
              "      <th>8</th>\n",
              "      <td>i have been with petronas for years i feel that petronas has performed well and made a huge profit</td>\n",
              "      <td>joy</td>\n",
              "      <td>98</td>\n",
              "      <td>0</td>\n",
              "      <td>petronas year feel petronas ha performed well made huge profit</td>\n",
              "      <td>62</td>\n",
              "    </tr>\n",
              "    <tr>\n",
              "      <th>9</th>\n",
              "      <td>i feel romantic too</td>\n",
              "      <td>love</td>\n",
              "      <td>19</td>\n",
              "      <td>4</td>\n",
              "      <td>feel romantic</td>\n",
              "      <td>13</td>\n",
              "    </tr>\n",
              "  </tbody>\n",
              "</table>\n",
              "</div>\n",
              "      <button class=\"colab-df-convert\" onclick=\"convertToInteractive('df-f2090af8-887a-4d41-9b35-05bafc24d211')\"\n",
              "              title=\"Convert this dataframe to an interactive table.\"\n",
              "              style=\"display:none;\">\n",
              "        \n",
              "  <svg xmlns=\"http://www.w3.org/2000/svg\" height=\"24px\"viewBox=\"0 0 24 24\"\n",
              "       width=\"24px\">\n",
              "    <path d=\"M0 0h24v24H0V0z\" fill=\"none\"/>\n",
              "    <path d=\"M18.56 5.44l.94 2.06.94-2.06 2.06-.94-2.06-.94-.94-2.06-.94 2.06-2.06.94zm-11 1L8.5 8.5l.94-2.06 2.06-.94-2.06-.94L8.5 2.5l-.94 2.06-2.06.94zm10 10l.94 2.06.94-2.06 2.06-.94-2.06-.94-.94-2.06-.94 2.06-2.06.94z\"/><path d=\"M17.41 7.96l-1.37-1.37c-.4-.4-.92-.59-1.43-.59-.52 0-1.04.2-1.43.59L10.3 9.45l-7.72 7.72c-.78.78-.78 2.05 0 2.83L4 21.41c.39.39.9.59 1.41.59.51 0 1.02-.2 1.41-.59l7.78-7.78 2.81-2.81c.8-.78.8-2.07 0-2.86zM5.41 20L4 18.59l7.72-7.72 1.47 1.35L5.41 20z\"/>\n",
              "  </svg>\n",
              "      </button>\n",
              "      \n",
              "  <style>\n",
              "    .colab-df-container {\n",
              "      display:flex;\n",
              "      flex-wrap:wrap;\n",
              "      gap: 12px;\n",
              "    }\n",
              "\n",
              "    .colab-df-convert {\n",
              "      background-color: #E8F0FE;\n",
              "      border: none;\n",
              "      border-radius: 50%;\n",
              "      cursor: pointer;\n",
              "      display: none;\n",
              "      fill: #1967D2;\n",
              "      height: 32px;\n",
              "      padding: 0 0 0 0;\n",
              "      width: 32px;\n",
              "    }\n",
              "\n",
              "    .colab-df-convert:hover {\n",
              "      background-color: #E2EBFA;\n",
              "      box-shadow: 0px 1px 2px rgba(60, 64, 67, 0.3), 0px 1px 3px 1px rgba(60, 64, 67, 0.15);\n",
              "      fill: #174EA6;\n",
              "    }\n",
              "\n",
              "    [theme=dark] .colab-df-convert {\n",
              "      background-color: #3B4455;\n",
              "      fill: #D2E3FC;\n",
              "    }\n",
              "\n",
              "    [theme=dark] .colab-df-convert:hover {\n",
              "      background-color: #434B5C;\n",
              "      box-shadow: 0px 1px 3px 1px rgba(0, 0, 0, 0.15);\n",
              "      filter: drop-shadow(0px 1px 2px rgba(0, 0, 0, 0.3));\n",
              "      fill: #FFFFFF;\n",
              "    }\n",
              "  </style>\n",
              "\n",
              "      <script>\n",
              "        const buttonEl =\n",
              "          document.querySelector('#df-f2090af8-887a-4d41-9b35-05bafc24d211 button.colab-df-convert');\n",
              "        buttonEl.style.display =\n",
              "          google.colab.kernel.accessAllowed ? 'block' : 'none';\n",
              "\n",
              "        async function convertToInteractive(key) {\n",
              "          const element = document.querySelector('#df-f2090af8-887a-4d41-9b35-05bafc24d211');\n",
              "          const dataTable =\n",
              "            await google.colab.kernel.invokeFunction('convertToInteractive',\n",
              "                                                     [key], {});\n",
              "          if (!dataTable) return;\n",
              "\n",
              "          const docLinkHtml = 'Like what you see? Visit the ' +\n",
              "            '<a target=\"_blank\" href=https://colab.research.google.com/notebooks/data_table.ipynb>data table notebook</a>'\n",
              "            + ' to learn more about interactive tables.';\n",
              "          element.innerHTML = '';\n",
              "          dataTable['output_type'] = 'display_data';\n",
              "          await google.colab.output.renderOutput(dataTable, element);\n",
              "          const docLink = document.createElement('div');\n",
              "          docLink.innerHTML = docLinkHtml;\n",
              "          element.appendChild(docLink);\n",
              "        }\n",
              "      </script>\n",
              "    </div>\n",
              "  </div>\n",
              "  "
            ]
          },
          "metadata": {},
          "execution_count": 141
        }
      ]
    },
    {
      "cell_type": "markdown",
      "source": [
        "Text Tokenize"
      ],
      "metadata": {
        "id": "mKoZaCsoT52R"
      },
      "id": "mKoZaCsoT52R"
    },
    {
      "cell_type": "code",
      "source": [
        "X_train = train_df['clean_text']\n",
        "X_test = test_df['clean_text']\n",
        "y_train = train_df['enc_labels']\n",
        "y_test = test_df['enc_labels']\n",
        "y_val = val_df['enc_labels']"
      ],
      "metadata": {
        "id": "XHWtndZlHFIY"
      },
      "id": "XHWtndZlHFIY",
      "execution_count": 142,
      "outputs": []
    },
    {
      "cell_type": "code",
      "source": [
        "tokenizer = Tokenizer(oov_token='<oov>')\n",
        "tokenizer.fit_on_texts(X_train)\n",
        "\n",
        "X_train = tokenizer.texts_to_sequences(X_train)\n",
        "X_test = tokenizer.texts_to_sequences(X_test)\n",
        "X_val = tokenizer.texts_to_sequences(val_df['clean_text'])\n",
        "\n",
        "vocab_size = len(tokenizer.word_index) + 1\n",
        "print(vocab_size)"
      ],
      "metadata": {
        "colab": {
          "base_uri": "https://localhost:8080/"
        },
        "id": "RixKKipEHKXv",
        "outputId": "a77f4753-7386-4875-93b1-ca42d8fe2426"
      },
      "id": "RixKKipEHKXv",
      "execution_count": 143,
      "outputs": [
        {
          "output_type": "stream",
          "name": "stdout",
          "text": [
            "13464\n"
          ]
        }
      ]
    },
    {
      "cell_type": "code",
      "source": [
        "X_train = pad_sequences(X_train, padding='post', maxlen=128)\n",
        "X_test = pad_sequences(X_test, padding='post', maxlen=128)\n",
        "X_val = pad_sequences(X_val, padding='post', maxlen=128)"
      ],
      "metadata": {
        "id": "3slBwjGDHNwz"
      },
      "id": "3slBwjGDHNwz",
      "execution_count": 144,
      "outputs": []
    },
    {
      "cell_type": "code",
      "source": [
        "OHE_y_test = to_categorical(y_test) # One Hot Encode apply\n",
        "OHE_y_train = to_categorical(y_train)\n",
        "OHE_y_val = to_categorical(y_val)"
      ],
      "metadata": {
        "id": "wQtjqziLHQWE"
      },
      "id": "wQtjqziLHQWE",
      "execution_count": 145,
      "outputs": []
    },
    {
      "cell_type": "markdown",
      "source": [
        "Model Building"
      ],
      "metadata": {
        "id": "FD72oxkvUIl7"
      },
      "id": "FD72oxkvUIl7"
    },
    {
      "cell_type": "code",
      "source": [
        "from tensorflow.keras.layers import LSTM, Bidirectional, Dense, Embedding, Dropout, BatchNormalization\n",
        "from tensorflow.keras.models import Sequential\n",
        "from tensorflow.keras.optimizers import Adam\n",
        "from tensorflow.keras.callbacks import EarlyStopping, ReduceLROnPlateau, ModelCheckpoint, Callback"
      ],
      "metadata": {
        "id": "Ip5iIrF1HVIQ"
      },
      "id": "Ip5iIrF1HVIQ",
      "execution_count": 146,
      "outputs": []
    },
    {
      "cell_type": "code",
      "source": [
        "model = Sequential([\n",
        "    Embedding(vocab_size, 128, input_length=128, name='in_layer'),\n",
        "    BatchNormalization(),\n",
        "    Dropout(0.5),\n",
        "    Bidirectional(LSTM(512, return_sequences=True, name='Bi-LSTM-2')),\n",
        "    Bidirectional(LSTM(256, return_sequences=True, name='Bi-LSTM-2')),\n",
        "    Bidirectional(LSTM(128, name='Bi-LSTM-3')),\n",
        "    Dropout(0.5),\n",
        "    Dense(512, activation='relu', name='fc-1'),\n",
        "    Dense(6, activation='softmax', name='out_layer')\n",
        "])"
      ],
      "metadata": {
        "id": "exrnRxR7HYH7"
      },
      "id": "exrnRxR7HYH7",
      "execution_count": 148,
      "outputs": []
    },
    {
      "cell_type": "code",
      "source": [
        "model.summary()"
      ],
      "metadata": {
        "colab": {
          "base_uri": "https://localhost:8080/"
        },
        "id": "TksbTfdXHfHJ",
        "outputId": "f2ea4e18-00f3-4654-8bc0-fdf97c102cfd"
      },
      "id": "TksbTfdXHfHJ",
      "execution_count": 149,
      "outputs": [
        {
          "output_type": "stream",
          "name": "stdout",
          "text": [
            "Model: \"sequential_3\"\n",
            "_________________________________________________________________\n",
            " Layer (type)                Output Shape              Param #   \n",
            "=================================================================\n",
            " in_layer (Embedding)        (None, 128, 128)          1723392   \n",
            "                                                                 \n",
            " batch_normalization_3 (Batc  (None, 128, 128)         512       \n",
            " hNormalization)                                                 \n",
            "                                                                 \n",
            " dropout_6 (Dropout)         (None, 128, 128)          0         \n",
            "                                                                 \n",
            " bidirectional_9 (Bidirectio  (None, 128, 1024)        2625536   \n",
            " nal)                                                            \n",
            "                                                                 \n",
            " bidirectional_10 (Bidirecti  (None, 128, 512)         2623488   \n",
            " onal)                                                           \n",
            "                                                                 \n",
            " bidirectional_11 (Bidirecti  (None, 256)              656384    \n",
            " onal)                                                           \n",
            "                                                                 \n",
            " dropout_7 (Dropout)         (None, 256)               0         \n",
            "                                                                 \n",
            " fc-1 (Dense)                (None, 512)               131584    \n",
            "                                                                 \n",
            " out_layer (Dense)           (None, 6)                 3078      \n",
            "                                                                 \n",
            "=================================================================\n",
            "Total params: 7,763,974\n",
            "Trainable params: 7,763,718\n",
            "Non-trainable params: 256\n",
            "_________________________________________________________________\n"
          ]
        }
      ]
    },
    {
      "cell_type": "code",
      "source": [
        "model.compile(optimizer='Adam',\n",
        "              loss='categorical_crossentropy',\n",
        "              metrics=['accuracy'])\n",
        "history = model.fit(X_train, OHE_y_train,\n",
        "                    epochs=20, \n",
        "                    verbose=1,\n",
        "                    validation_data=(X_test, OHE_y_test),\n",
        "                    batch_size=128)\n"
      ],
      "metadata": {
        "colab": {
          "base_uri": "https://localhost:8080/"
        },
        "id": "ek2wA12CHlbF",
        "outputId": "7a2deb85-430c-4550-fa44-08518020d34b"
      },
      "id": "ek2wA12CHlbF",
      "execution_count": 150,
      "outputs": [
        {
          "output_type": "stream",
          "name": "stdout",
          "text": [
            "Epoch 1/2\n",
            "125/125 [==============================] - 42s 261ms/step - loss: 1.1210 - accuracy: 0.5678 - val_loss: 1.2440 - val_accuracy: 0.6295\n",
            "Epoch 2/2\n",
            "125/125 [==============================] - 29s 234ms/step - loss: 0.2587 - accuracy: 0.9089 - val_loss: 0.8998 - val_accuracy: 0.7920\n"
          ]
        }
      ]
    },
    {
      "cell_type": "code",
      "source": [
        "plt.plot(history.history['loss'])\n",
        "plt.plot(history.history['val_loss'])\n",
        "plt.title('Model Loss')\n",
        "plt.ylabel('Loss')\n",
        "plt.xlabel('Epochs')\n",
        "plt.legend(['train', 'test'], loc = 'upper right')\n",
        "plt.show()\n",
        "\n",
        "plt.plot(history.history['accuracy'])\n",
        "plt.plot(history.history['val_accuracy'])\n",
        "plt.title('Model Accuracy')\n",
        "plt.ylabel('Accuracy')\n",
        "plt.xlabel('Epoch')\n",
        "plt.legend(['train', 'test'], loc='lower right')\n",
        "plt.show()"
      ],
      "metadata": {
        "colab": {
          "base_uri": "https://localhost:8080/",
          "height": 573
        },
        "id": "2WwQYGlhHpLI",
        "outputId": "ccaf1bca-b9f5-4c69-b99c-4466c6b63063"
      },
      "id": "2WwQYGlhHpLI",
      "execution_count": 96,
      "outputs": [
        {
          "output_type": "display_data",
          "data": {
            "text/plain": [
              "<Figure size 432x288 with 1 Axes>"
            ],
            "image/png": "[encoded data removed]"
          },
          "metadata": {
            "needs_background": "light"
          }
        },
        {
          "output_type": "display_data",
          "data": {
            "text/plain": [
              "<Figure size 432x288 with 1 Axes>"
            ],
            "image/png": "[encoded data removed]"
          },
          "metadata": {
            "needs_background": "light"
          }
        }
      ]
    },
    {
      "cell_type": "code",
      "source": [
        "predict = model.predict(X_val)\n",
        "predict_class = np.argmax(predict, axis=1)\n",
        "predict_class = np.array(predict_class)"
      ],
      "metadata": {
        "colab": {
          "base_uri": "https://localhost:8080/"
        },
        "id": "cXpjSOZ5IF8A",
        "outputId": "f2d19880-b2af-4a09-af10-11851f661705"
      },
      "id": "cXpjSOZ5IF8A",
      "execution_count": 151,
      "outputs": [
        {
          "output_type": "stream",
          "name": "stdout",
          "text": [
            "63/63 [==============================] - 4s 30ms/step\n"
          ]
        }
      ]
    },
    {
      "cell_type": "code",
      "source": [
        "from sklearn.metrics import classification_report\n",
        "print(classification_report(val_df[\"enc_labels\"], predict_class, target_names =[\"anger\", \"fear\", \"joy\", \"love\", \"sadness\", \"surprise\"]))"
      ],
      "metadata": {
        "colab": {
          "base_uri": "https://localhost:8080/"
        },
        "id": "pQ0wlTvpIIMT",
        "outputId": "b0c20f8b-54a4-405c-fbcd-c54427dd7061"
      },
      "id": "pQ0wlTvpIIMT",
      "execution_count": 152,
      "outputs": [
        {
          "output_type": "stream",
          "name": "stdout",
          "text": [
            "              precision    recall  f1-score   support\n",
            "\n",
            "       anger       0.85      0.82      0.83       704\n",
            "        fear       0.80      0.87      0.83       550\n",
            "         joy       0.56      0.90      0.69       275\n",
            "        love       0.90      0.56      0.69       212\n",
            "     sadness       0.81      0.49      0.61       178\n",
            "    surprise       0.95      0.51      0.66        81\n",
            "\n",
            "    accuracy                           0.77      2000\n",
            "   macro avg       0.81      0.69      0.72      2000\n",
            "weighted avg       0.80      0.77      0.77      2000\n",
            "\n"
          ]
        }
      ]
    },
    {
      "cell_type": "code",
      "source": [
        "print(labels)\n",
        "def get_key(value):\n",
        "    dictionary={\n",
        "        \"joy\":0,\n",
        "        \"sadness\":1,\n",
        "        \"anger\":2,\n",
        "        \"fear\":3,\n",
        "        \"love\":4,\n",
        "        \"surprise\":5\n",
        "    }\n",
        "    for key,val in dictionary.items():\n",
        "          if (val==value):\n",
        "            return key"
      ],
      "metadata": {
        "colab": {
          "base_uri": "https://localhost:8080/"
        },
        "id": "yGXEXGpOIKdu",
        "outputId": "e2fe76f5-e2f7-494a-a9eb-8f1c1615d44e"
      },
      "id": "yGXEXGpOIKdu",
      "execution_count": 153,
      "outputs": [
        {
          "output_type": "stream",
          "name": "stdout",
          "text": [
            "['joy', 'sadness', 'anger', 'fear', 'love', 'surprise']\n"
          ]
        }
      ]
    },
    {
      "cell_type": "code",
      "source": [
        "def predict_test(sentence):\n",
        "  sentence_lst=[]\n",
        "  sentence_lst.append(sentence)\n",
        "  sentence_seq=tokenizer.texts_to_sequences(sentence_lst)\n",
        "  sentence_padded=pad_sequences(sentence_seq,maxlen=300,padding='post')\n",
        "  ans=get_key(np.argmax(model.predict(sentence_padded), axis=1))\n",
        "  \n",
        "  print(\"The emotion predicted is\",ans)"
      ],
      "metadata": {
        "id": "DEKJ5yz7ITOK"
      },
      "id": "DEKJ5yz7ITOK",
      "execution_count": 154,
      "outputs": []
    },
    {
      "cell_type": "code",
      "source": [
        "sample1='Funeral ceremony...gloomy friday...'"
      ],
      "metadata": {
        "id": "nu7x0DQBNqWm"
      },
      "id": "nu7x0DQBNqWm",
      "execution_count": 163,
      "outputs": []
    },
    {
      "cell_type": "code",
      "source": [
        "predict_test(sample1)"
      ],
      "metadata": {
        "colab": {
          "base_uri": "https://localhost:8080/"
        },
        "id": "0iyk5z1tNyJN",
        "outputId": "f94c9930-5cde-4ac2-8444-bea94ac7d3c7"
      },
      "id": "0iyk5z1tNyJN",
      "execution_count": 164,
      "outputs": [
        {
          "output_type": "stream",
          "name": "stdout",
          "text": [
            "1/1 [==============================] - 0s 52ms/step\n",
            "The emotion predicted is sadness\n"
          ]
        }
      ]
    }
  ]
}